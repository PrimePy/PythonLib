{
 "cells": [
  {
   "cell_type": "code",
   "execution_count": 5,
   "metadata": {},
   "outputs": [],
   "source": [
    "import turtle as t"
   ]
  },
  {
   "cell_type": "code",
   "execution_count": 13,
   "metadata": {},
   "outputs": [
    {
     "data": {
      "text/plain": [
       "(-25.00,0.00)"
      ]
     },
     "execution_count": 13,
     "metadata": {},
     "output_type": "execute_result"
    }
   ],
   "source": [
    "t.position()\n",
    "t.forward(50) \n",
    "t.position()#(0.00,0.00)\n",
    "t.fd(-75)\n",
    "t.position()"
   ]
  },
  {
   "cell_type": "code",
   "execution_count": 3,
   "metadata": {},
   "outputs": [
    {
     "data": {
      "text/plain": [
       "(-60.00,0.00)"
      ]
     },
     "execution_count": 3,
     "metadata": {},
     "output_type": "execute_result"
    }
   ],
   "source": [
    "t.backward(30)\n",
    "t.position()\n"
   ]
  },
  {
   "cell_type": "code",
   "execution_count": 4,
   "metadata": {},
   "outputs": [
    {
     "data": {
      "text/plain": [
       "(-120.00,0.00)"
      ]
     },
     "execution_count": 4,
     "metadata": {},
     "output_type": "execute_result"
    }
   ],
   "source": [
    "t.bk(60)\n",
    "t.position()\n"
   ]
  },
  {
   "cell_type": "code",
   "execution_count": 5,
   "metadata": {},
   "outputs": [
    {
     "data": {
      "text/plain": [
       "(0.00,0.00)"
      ]
     },
     "execution_count": 5,
     "metadata": {},
     "output_type": "execute_result"
    }
   ],
   "source": [
    "t.back(-120)\n",
    "t.position()"
   ]
  },
  {
   "cell_type": "code",
   "execution_count": 7,
   "metadata": {},
   "outputs": [
    {
     "data": {
      "text/plain": [
       "(10.00,20.00)"
      ]
     },
     "execution_count": 7,
     "metadata": {},
     "output_type": "execute_result"
    }
   ],
   "source": [
    "t.goto(10,20)\n",
    "t.position()"
   ]
  },
  {
   "cell_type": "code",
   "execution_count": 8,
   "metadata": {},
   "outputs": [
    {
     "data": {
      "text/plain": [
       "(40.00,80.00)"
      ]
     },
     "execution_count": 8,
     "metadata": {},
     "output_type": "execute_result"
    }
   ],
   "source": [
    "t.setpos(40,80)\n",
    "t.position()"
   ]
  },
  {
   "cell_type": "code",
   "execution_count": 9,
   "metadata": {},
   "outputs": [
    {
     "data": {
      "text/plain": [
       "(80.00,120.00)"
      ]
     },
     "execution_count": 9,
     "metadata": {},
     "output_type": "execute_result"
    }
   ],
   "source": [
    "t.setposition(80,120)\n",
    "t.position()"
   ]
  },
  {
   "cell_type": "code",
   "execution_count": 11,
   "metadata": {},
   "outputs": [
    {
     "data": {
      "text/plain": [
       "(0.00,0.00)"
      ]
     },
     "execution_count": 11,
     "metadata": {},
     "output_type": "execute_result"
    }
   ],
   "source": [
    "t.setposition(0,0)\n",
    "t.position()"
   ]
  },
  {
   "cell_type": "code",
   "execution_count": 3,
   "metadata": {},
   "outputs": [
    {
     "data": {
      "text/plain": [
       "(10.00,50.00)"
      ]
     },
     "execution_count": 3,
     "metadata": {},
     "output_type": "execute_result"
    }
   ],
   "source": [
    "t.setx(10)\n",
    "t.sety(50)\n",
    "t.position()"
   ]
  },
  {
   "cell_type": "code",
   "execution_count": 2,
   "metadata": {},
   "outputs": [
    {
     "data": {
      "text/plain": [
       "100.0"
      ]
     },
     "execution_count": 2,
     "metadata": {},
     "output_type": "execute_result"
    }
   ],
   "source": [
    "t.setposition(0,0)\n",
    "t.setheading(90)\n",
    "t.heading()\n",
    "t.seth(100)\n",
    "t.heading()"
   ]
  },
  {
   "cell_type": "code",
   "execution_count": 3,
   "metadata": {},
   "outputs": [
    {
     "data": {
      "text/plain": [
       "(0.00,0.00)"
      ]
     },
     "execution_count": 3,
     "metadata": {},
     "output_type": "execute_result"
    }
   ],
   "source": [
    "t.home()\n",
    "t.position()"
   ]
  },
  {
   "cell_type": "code",
   "execution_count": 6,
   "metadata": {},
   "outputs": [
    {
     "data": {
      "text/plain": [
       "(8.68,0.76)"
      ]
     },
     "execution_count": 6,
     "metadata": {},
     "output_type": "execute_result"
    }
   ],
   "source": [
    "t.circle(100)\n",
    "t.position()"
   ]
  },
  {
   "cell_type": "code",
   "execution_count": 4,
   "metadata": {},
   "outputs": [],
   "source": [
    "t.circle(100)"
   ]
  },
  {
   "cell_type": "code",
   "execution_count": 5,
   "metadata": {},
   "outputs": [],
   "source": [
    "t.dot(20,\"red\")"
   ]
  },
  {
   "cell_type": "code",
   "execution_count": 6,
   "metadata": {},
   "outputs": [],
   "source": [
    "t.color(\"green\")\n",
    "t.stamp()\n",
    "t.fd(100)"
   ]
  },
  {
   "cell_type": "code",
   "execution_count": 15,
   "metadata": {},
   "outputs": [],
   "source": [
    "t.position()\n",
    "t.color(\"blue\")\n",
    "astamp = t.stamp()\n",
    "t.fd(50)\n",
    "t.position()\n",
    "t.clearstamp(astamp)\n",
    "t.position()\n",
    "t.done()"
   ]
  },
  {
   "cell_type": "code",
   "execution_count": 18,
   "metadata": {},
   "outputs": [],
   "source": [
    "t.setposition(0,0)\n",
    "for i in range(4):\n",
    "    t.fd(50); t.lt(80)\n",
    "for i in range(8):\n",
    "    t.undo()"
   ]
  },
  {
   "cell_type": "code",
   "execution_count": 19,
   "metadata": {},
   "outputs": [],
   "source": [
    "t.speed(10)"
   ]
  },
  {
   "cell_type": "code",
   "execution_count": 20,
   "metadata": {},
   "outputs": [
    {
     "data": {
      "text/plain": [
       "(0.00,0.00)"
      ]
     },
     "execution_count": 20,
     "metadata": {},
     "output_type": "execute_result"
    }
   ],
   "source": [
    "t.pos()"
   ]
  },
  {
   "cell_type": "code",
   "execution_count": 21,
   "metadata": {},
   "outputs": [
    {
     "data": {
      "text/plain": [
       "0"
      ]
     },
     "execution_count": 21,
     "metadata": {},
     "output_type": "execute_result"
    }
   ],
   "source": [
    "t.xcor()"
   ]
  },
  {
   "cell_type": "code",
   "execution_count": 22,
   "metadata": {},
   "outputs": [
    {
     "data": {
      "text/plain": [
       "0"
      ]
     },
     "execution_count": 22,
     "metadata": {},
     "output_type": "execute_result"
    }
   ],
   "source": [
    "t.ycor()"
   ]
  },
  {
   "cell_type": "code",
   "execution_count": 23,
   "metadata": {},
   "outputs": [
    {
     "data": {
      "text/plain": [
       "(0.00,0.00)"
      ]
     },
     "execution_count": 23,
     "metadata": {},
     "output_type": "execute_result"
    }
   ],
   "source": [
    "t.towards(12,32)\n",
    "t.pos()"
   ]
  },
  {
   "cell_type": "code",
   "execution_count": 26,
   "metadata": {},
   "outputs": [
    {
     "data": {
      "text/plain": [
       "25.079872407968907"
      ]
     },
     "execution_count": 26,
     "metadata": {},
     "output_type": "execute_result"
    }
   ],
   "source": [
    "t.distance(10,23)\n"
   ]
  },
  {
   "cell_type": "code",
   "execution_count": 35,
   "metadata": {},
   "outputs": [
    {
     "data": {
      "text/plain": [
       "0.0"
      ]
     },
     "execution_count": 35,
     "metadata": {},
     "output_type": "execute_result"
    }
   ],
   "source": [
    "t.pos()\n",
    "t.forward(100)\n",
    "t.degrees(80)\n",
    "t.setposition(0,0)\n",
    "t.radians()\n",
    "t.heading()"
   ]
  },
  {
   "cell_type": "code",
   "execution_count": 38,
   "metadata": {},
   "outputs": [],
   "source": [
    "# Pen Control\n",
    "t.pendown()\n",
    "t.pd()\n",
    "t.down()"
   ]
  },
  {
   "cell_type": "code",
   "execution_count": 57,
   "metadata": {},
   "outputs": [],
   "source": [
    "t.penup()\n",
    "t.pensize(10)\n",
    "t.setposition(100,200)\n",
    "t.pendown()\n",
    "t.back(50)\n",
    "t.up()\n",
    "t.forward(100)\n",
    "t.pd()\n",
    "t.forward(200)\n",
    "t.pu()\n",
    "t.back(500)\n",
    "t.down()\n",
    "t.width(50)\n",
    "t.forward(40)"
   ]
  },
  {
   "cell_type": "code",
   "execution_count": 59,
   "metadata": {},
   "outputs": [],
   "source": [
    "t.pen(fillcolor=\"black\", pencolor=\"red\", pensize=10)\n",
    "t.setposition(-50,200)"
   ]
  },
  {
   "cell_type": "code",
   "execution_count": null,
   "metadata": {},
   "outputs": [],
   "source": [
    "t.pencolor('orange')\n",
    "t.setposition(0,0)\n",
    "t.left(130)\n",
    "t.forward(100)\n",
    "t.circle(50)\n",
    "t.fillcolor('cyan')\n",
    "t.colr('aqua')\n",
    "t.back(100)"
   ]
  },
  {
   "cell_type": "code",
   "execution_count": 74,
   "metadata": {},
   "outputs": [],
   "source": [
    "t.color(\"red\",'cyan')\n",
    "t.begin_fill()\n",
    "t.circle(50)\n",
    "t.end_fill()\n",
    "if t.filling():\n",
    "    t.pensize(5)\n",
    "else:\n",
    "    t.pensize(10)"
   ]
  },
  {
   "cell_type": "code",
   "execution_count": 75,
   "metadata": {},
   "outputs": [],
   "source": [
    "t.reset()"
   ]
  },
  {
   "cell_type": "code",
   "execution_count": 84,
   "metadata": {},
   "outputs": [],
   "source": [
    "t.forward(30)\n",
    "t.clear()\n",
    "t.reset()"
   ]
  },
  {
   "cell_type": "code",
   "execution_count": 85,
   "metadata": {},
   "outputs": [],
   "source": [
    "t.color('pink')\n",
    "t.write(\"Optimus Prime\",True,align=\"center\",font=(\"Arial\",60,\"normal\"))"
   ]
  },
  {
   "cell_type": "code",
   "execution_count": 89,
   "metadata": {},
   "outputs": [],
   "source": [
    "t.hideturtle()\n",
    "t.st()"
   ]
  },
  {
   "cell_type": "code",
   "execution_count": 92,
   "metadata": {},
   "outputs": [],
   "source": [
    "t.ht()\n",
    "t.showturtle()"
   ]
  },
  {
   "cell_type": "code",
   "execution_count": 100,
   "metadata": {},
   "outputs": [],
   "source": [
    "# Shape\n",
    "t.shape('square')\n",
    "t.reset()\n",
    "t.shape('classic')\n",
    "t.shape('arrow')\n",
    "t.shape('triangle')\n",
    "t.shape('circle')"
   ]
  },
  {
   "cell_type": "code",
   "execution_count": 101,
   "metadata": {},
   "outputs": [
    {
     "data": {
      "text/plain": [
       "(1.0, 1.0, 1)"
      ]
     },
     "execution_count": 101,
     "metadata": {},
     "output_type": "execute_result"
    }
   ],
   "source": [
    "t.shapesize()"
   ]
  },
  {
   "cell_type": "code",
   "execution_count": 104,
   "metadata": {},
   "outputs": [],
   "source": [
    "t.shapesize(5,5,12)\n",
    "t.shearfactor(0.6)\n",
    "t.reset()"
   ]
  },
  {
   "cell_type": "code",
   "execution_count": 12,
   "metadata": {},
   "outputs": [],
   "source": [
    "t.shapesize(4,3,2)\n",
    "t.tilt(80)\n",
    "t.clear()"
   ]
  },
  {
   "cell_type": "code",
   "execution_count": 13,
   "metadata": {},
   "outputs": [],
   "source": [
    "def turn(x,y):\n",
    "    left(180)\n",
    "t.onclick(turn)"
   ]
  },
  {
   "cell_type": "code",
   "execution_count": 14,
   "metadata": {},
   "outputs": [],
   "source": [
    "t.reset()"
   ]
  },
  {
   "cell_type": "code",
   "execution_count": 18,
   "metadata": {},
   "outputs": [
    {
     "data": {
      "text/plain": [
       "((0.00,0.00), (50.00,0.00), (84.64,20.00), (101.74,66.98))"
      ]
     },
     "execution_count": 18,
     "metadata": {},
     "output_type": "execute_result"
    }
   ],
   "source": [
    "t.reset()\n",
    "t.home()\n",
    "t.begin_poly()\n",
    "t.fd(50)\n",
    "t.lt(30)\n",
    "t.fd(40)\n",
    "t.lt(40)\n",
    "t.fd(50)\n",
    "t.lt(60)\n",
    "t.end_poly()\n",
    "p=t.get_poly()\n",
    "p\n"
   ]
  },
  {
   "cell_type": "code",
   "execution_count": 26,
   "metadata": {},
   "outputs": [],
   "source": [
    "t.clearscreen()\n",
    "t.getscreen()\n",
    "t.bgcolor('pink')\n",
    "#t.bgpic(\"image.gif\")\n",
    "t.screensize(200,400)"
   ]
  },
  {
   "cell_type": "code",
   "execution_count": 37,
   "metadata": {},
   "outputs": [],
   "source": [
    "t.clearscreen()\n",
    "def f():\n",
    "    fd(50)\n",
    "    lt(60)\n",
    "t.onkey(f, \"Up\")\n",
    "t.listen()"
   ]
  },
  {
   "cell_type": "code",
   "execution_count": 40,
   "metadata": {},
   "outputs": [],
   "source": [
    "t.clearscreen()\n",
    "t.bgcolor('pink')\n",
    "t.mode(\"logo\")"
   ]
  },
  {
   "cell_type": "code",
   "execution_count": 41,
   "metadata": {},
   "outputs": [
    {
     "data": {
      "text/plain": [
       "'optimus'"
      ]
     },
     "execution_count": 41,
     "metadata": {},
     "output_type": "execute_result"
    }
   ],
   "source": [
    "t.clear()\n",
    "t.textinput(\"Enter your name\",\"Name\")"
   ]
  },
  {
   "cell_type": "code",
   "execution_count": 42,
   "metadata": {},
   "outputs": [
    {
     "data": {
      "text/plain": [
       "60.0"
      ]
     },
     "execution_count": 42,
     "metadata": {},
     "output_type": "execute_result"
    }
   ],
   "source": [
    "t.numinput(\"Enter your age\",\"Age\",0,minval=1,maxval=100)"
   ]
  },
  {
   "cell_type": "code",
   "execution_count": 44,
   "metadata": {},
   "outputs": [
    {
     "data": {
      "text/plain": [
       "683"
      ]
     },
     "execution_count": 44,
     "metadata": {},
     "output_type": "execute_result"
    }
   ],
   "source": [
    "t.window_height()\n",
    "t.window_width()"
   ]
  },
  {
   "cell_type": "code",
   "execution_count": 46,
   "metadata": {},
   "outputs": [],
   "source": [
    "t.reset()\n",
    "t.setup (width=200, height=200, startx=0, starty=0)\n",
    "t.setup(width=.75, height=0.5, startx=None, starty=None)"
   ]
  },
  {
   "cell_type": "code",
   "execution_count": 48,
   "metadata": {},
   "outputs": [],
   "source": [
    "t.reset()\n",
    "t.title(\"Parent Screen\")"
   ]
  },
  {
   "cell_type": "code",
   "execution_count": 49,
   "metadata": {},
   "outputs": [],
   "source": [
    "t.circle(10)"
   ]
  },
  {
   "cell_type": "code",
   "execution_count": 66,
   "metadata": {},
   "outputs": [],
   "source": [
    "#Make Line\n",
    "arrow=t.Turtle()\n",
    "arrow.forward(100)\n",
    "t.done()"
   ]
  },
  {
   "cell_type": "code",
   "execution_count": 3,
   "metadata": {},
   "outputs": [],
   "source": [
    "#Make Square\n",
    "square=t.Turtle()\n",
    "square.forward(100)\n",
    "square.left(90)\n",
    "square.forward(100)\n",
    "square.left(90)\n",
    "square.forward(100)\n",
    "square.left(90)\n",
    "square.forward(100)\n",
    "square.left(90)\n",
    "t.done()"
   ]
  },
  {
   "cell_type": "code",
   "execution_count": 3,
   "metadata": {},
   "outputs": [],
   "source": [
    "#Draw Square using loops\n",
    "loop_square=t.Turtle()\n",
    "for i in range(4):\n",
    "    loop_square.forward(100)\n",
    "    loop_square.left(90)\n",
    "t.done()"
   ]
  },
  {
   "cell_type": "code",
   "execution_count": 14,
   "metadata": {},
   "outputs": [],
   "source": [
    "#Draw star\n",
    "star =t.Turtle()\n",
    "for i in range(5):\n",
    "    star.forward(200)\n",
    "    star.right(144)\n",
    "    \n",
    "t.done()"
   ]
  },
  {
   "cell_type": "code",
   "execution_count": 17,
   "metadata": {},
   "outputs": [],
   "source": [
    "# Draw Spiraling star\n",
    "spiral=t.Turtle()\n",
    "for i in range(50):\n",
    "    spiral.forward(i*10)\n",
    "    spiral.right(144)\n",
    "t.done()\n"
   ]
  },
  {
   "cell_type": "code",
   "execution_count": 19,
   "metadata": {},
   "outputs": [],
   "source": [
    "painter = t.Turtle()\n",
    "\n",
    "painter.pencolor(\"blue\")\n",
    "\n",
    "for i in range(50):\n",
    "    painter.forward(50)\n",
    "    painter.left(123) # Let's go counterclockwise this time \n",
    "    \n",
    "painter.pencolor(\"red\")\n",
    "for i in range(50):\n",
    "    painter.forward(100)\n",
    "    painter.left(123)\n",
    "    \n",
    "t.done()"
   ]
  },
  {
   "cell_type": "code",
   "execution_count": 25,
   "metadata": {},
   "outputs": [],
   "source": [
    "color_star= t.Turtle()\n",
    "for i in range(30):\n",
    "    color_star.pencolor(\"#D6305F\")\n",
    "    color_star.forward(200)\n",
    "    color_star.right(144)\n",
    "    if(i!=2):\n",
    "        color_star.pencolor(\"#32D486\")\n",
    "        color_star.forward(200)\n",
    "        color_star.right(144)   \n",
    "t.done()"
   ]
  },
  {
   "cell_type": "code",
   "execution_count": 5,
   "metadata": {},
   "outputs": [],
   "source": [
    "# Draw polygon\n",
    "polygon=t.Turtle()\n",
    "num_sides=6\n",
    "side_length=100\n",
    "angle=360.0/num_sides\n",
    "colors=['#234234','#532423','#d32ef3','#423fd3','#43d5f3','#252343']\n",
    "for i in range(num_sides):\n",
    "    polygon.pencolor(colors[i])\n",
    "    polygon.forward(100)\n",
    "    polygon.left(angle)\n",
    "t.done()"
   ]
  },
  {
   "cell_type": "code",
   "execution_count": 13,
   "metadata": {},
   "outputs": [],
   "source": [
    "# Draw seurat\n",
    "seurat = t.Turtle()\n",
    "\n",
    "dot_distance = 25\n",
    "width = 7\n",
    "height = 7\n",
    "\n",
    "seurat.penup()\n",
    "\n",
    "for y in range(height):\n",
    "    for i in range(width):\n",
    "        seurat.dot()\n",
    "        seurat.forward(dot_distance)\n",
    "    seurat.backward(dot_distance * width)\n",
    "    seurat.right(90)\n",
    "    seurat.forward(dot_distance)\n",
    "    seurat.left(90)\n",
    "    \n",
    "t.done()"
   ]
  },
  {
   "cell_type": "code",
   "execution_count": 6,
   "metadata": {},
   "outputs": [
    {
     "data": {
      "text/plain": [
       "<function turtle.mainloop()>"
      ]
     },
     "execution_count": 6,
     "metadata": {},
     "output_type": "execute_result"
    }
   ],
   "source": [
    "ninja = t.Turtle()\n",
    "ninja.speed(1000)\n",
    "size=180\n",
    "for j in range(2):\n",
    "    if(j==0):\n",
    "        pos=0\n",
    "    else:\n",
    "        pos=100\n",
    "    for i in range(size):\n",
    "        ninja.pencolor(\"#32D486\")\n",
    "        ninja.forward(100)\n",
    "        ninja.right(30)\n",
    "        ninja.pencolor(\"#39DA80\")\n",
    "        ninja.forward(20)\n",
    "        ninja.left(60)\n",
    "        ninja.pencolor(\"#65AA34\")\n",
    "        ninja.forward(50)\n",
    "        ninja.right(30)\n",
    "    \n",
    "        ninja.penup()\n",
    "        ninja.setposition(pos, pos)\n",
    "        ninja.pendown()\n",
    "    \n",
    "        ninja.right(2)\n",
    "    ninja.penup()\n",
    "    ninja.setposition(100, 100)\n",
    "    size+=1\n",
    "t.done"
   ]
  },
  {
   "cell_type": "code",
   "execution_count": 64,
   "metadata": {},
   "outputs": [],
   "source": [
    "rangoli=t.Turtle()\n",
    "for i in range(9):\n",
    "    rangoli.forward(105)\n",
    "    rangoli.right(60)\n",
    "    rangoli.forward(50)\n",
    "    rangoli.right(90)\n",
    "    rangoli.forward(50)\n",
    "    rangoli.right(70)\n",
    "    rangoli.forward(105)\n",
    "    rangoli.penup()\n",
    "    rangoli.setposition(0,6)\n",
    "    rangoli.pendown()\n",
    "    rangoli.right(180)\n",
    "t.done()"
   ]
  },
  {
   "cell_type": "code",
   "execution_count": null,
   "metadata": {},
   "outputs": [],
   "source": [
    "from turtle import *\n",
    "color('red', 'yellow')\n",
    "begin_fill()\n",
    "while True:\n",
    "    forward(200)\n",
    "    left(170)\n",
    "    print(pos())\n",
    "    if abs(pos()) < 1:\n",
    "        break\n",
    "end_fill()\n",
    "done()"
   ]
  },
  {
   "cell_type": "code",
   "execution_count": 4,
   "metadata": {},
   "outputs": [],
   "source": [
    "t.reset()\n",
    "t.clearscreen()\n",
    "#Georia's Spirals\n",
    "import turtle as t\n",
    "gs=t.Screen()\n",
    "gs.bgcolor('blue')\n",
    "first=t.Turtle()\n",
    "first.speed(100)\n",
    "first.color('orange')\n",
    "def drawCircles(tobj,size):\n",
    "    for i in range(10):\n",
    "        tobj.circle(size)\n",
    "        size=size-4\n",
    "def drawRepeats(tobj,size,repeatsize,rotate):\n",
    "    for i in range(repeatsize):\n",
    "        drawCircles(tobj,size)\n",
    "        tobj.right(rotate/repeatsize)\n",
    "drawRepeats(first,100,10,360)\n",
    "second=t.Turtle()\n",
    "second.speed(100)\n",
    "second.color('red')\n",
    "drawRepeats(second,100,10,360)\n",
    "third=t.Turtle()\n",
    "third.speed(100)\n",
    "third.color('yellow')\n",
    "drawRepeats(third,100,10,360)\n",
    "fourth=t.Turtle()\n",
    "fourth.speed(100)\n",
    "fourth.color('pink')\n",
    "drawRepeats(fourth,100,10,360)\n"
   ]
  },
  {
   "cell_type": "code",
   "execution_count": null,
   "metadata": {},
   "outputs": [],
   "source": []
  }
 ],
 "metadata": {
  "kernelspec": {
   "display_name": "Python 3",
   "language": "python",
   "name": "python3"
  },
  "language_info": {
   "codemirror_mode": {
    "name": "ipython",
    "version": 3
   },
   "file_extension": ".py",
   "mimetype": "text/x-python",
   "name": "python",
   "nbconvert_exporter": "python",
   "pygments_lexer": "ipython3",
   "version": "3.7.0"
  }
 },
 "nbformat": 4,
 "nbformat_minor": 2
}
