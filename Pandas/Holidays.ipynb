{
 "cells": [
  {
   "cell_type": "code",
   "execution_count": 2,
   "metadata": {},
   "outputs": [
    {
     "data": {
      "text/html": [
       "<div>\n",
       "<style scoped>\n",
       "    .dataframe tbody tr th:only-of-type {\n",
       "        vertical-align: middle;\n",
       "    }\n",
       "\n",
       "    .dataframe tbody tr th {\n",
       "        vertical-align: top;\n",
       "    }\n",
       "\n",
       "    .dataframe thead th {\n",
       "        text-align: right;\n",
       "    }\n",
       "</style>\n",
       "<table border=\"1\" class=\"dataframe\">\n",
       "  <thead>\n",
       "    <tr style=\"text-align: right;\">\n",
       "      <th></th>\n",
       "      <th>Open</th>\n",
       "      <th>High</th>\n",
       "      <th>Low</th>\n",
       "      <th>Close</th>\n",
       "      <th>Volume</th>\n",
       "    </tr>\n",
       "  </thead>\n",
       "  <tbody>\n",
       "    <tr>\n",
       "      <th>0</th>\n",
       "      <td>143.36</td>\n",
       "      <td>143.36</td>\n",
       "      <td>143.36</td>\n",
       "      <td>143.36</td>\n",
       "      <td>20123.23</td>\n",
       "    </tr>\n",
       "    <tr>\n",
       "      <th>1</th>\n",
       "      <td>142.32</td>\n",
       "      <td>142.32</td>\n",
       "      <td>142.32</td>\n",
       "      <td>142.32</td>\n",
       "      <td>20432.12</td>\n",
       "    </tr>\n",
       "    <tr>\n",
       "      <th>2</th>\n",
       "      <td>145.98</td>\n",
       "      <td>145.98</td>\n",
       "      <td>145.98</td>\n",
       "      <td>145.98</td>\n",
       "      <td>20487.23</td>\n",
       "    </tr>\n",
       "    <tr>\n",
       "      <th>3</th>\n",
       "      <td>149.23</td>\n",
       "      <td>149.23</td>\n",
       "      <td>149.23</td>\n",
       "      <td>149.23</td>\n",
       "      <td>20342.98</td>\n",
       "    </tr>\n",
       "    <tr>\n",
       "      <th>4</th>\n",
       "      <td>148.76</td>\n",
       "      <td>148.76</td>\n",
       "      <td>148.76</td>\n",
       "      <td>148.76</td>\n",
       "      <td>20743.23</td>\n",
       "    </tr>\n",
       "    <tr>\n",
       "      <th>5</th>\n",
       "      <td>143.36</td>\n",
       "      <td>143.36</td>\n",
       "      <td>143.36</td>\n",
       "      <td>143.36</td>\n",
       "      <td>20123.23</td>\n",
       "    </tr>\n",
       "  </tbody>\n",
       "</table>\n",
       "</div>"
      ],
      "text/plain": [
       "     Open    High     Low   Close    Volume\n",
       "0  143.36  143.36  143.36  143.36  20123.23\n",
       "1  142.32  142.32  142.32  142.32  20432.12\n",
       "2  145.98  145.98  145.98  145.98  20487.23\n",
       "3  149.23  149.23  149.23  149.23  20342.98\n",
       "4  148.76  148.76  148.76  148.76  20743.23\n",
       "5  143.36  143.36  143.36  143.36  20123.23"
      ]
     },
     "execution_count": 2,
     "metadata": {},
     "output_type": "execute_result"
    }
   ],
   "source": [
    "import pandas as pd\n",
    "df=pd.read_excel('Date_data.xlsx')\n",
    "df"
   ]
  },
  {
   "cell_type": "code",
   "execution_count": 5,
   "metadata": {},
   "outputs": [
    {
     "data": {
      "text/plain": [
       "DatetimeIndex(['2017-10-16', '2017-10-17', '2017-10-18', '2017-10-19',\n",
       "               '2017-10-20', '2017-10-23'],\n",
       "              dtype='datetime64[ns]', freq='B')"
      ]
     },
     "execution_count": 5,
     "metadata": {},
     "output_type": "execute_result"
    }
   ],
   "source": [
    "pd.date_range(start='10/16/2017',end='10/23/2017',freq='B')"
   ]
  },
  {
   "cell_type": "code",
   "execution_count": 6,
   "metadata": {},
   "outputs": [
    {
     "data": {
      "text/plain": [
       "<CustomBusinessDay>"
      ]
     },
     "execution_count": 6,
     "metadata": {},
     "output_type": "execute_result"
    }
   ],
   "source": [
    "from pandas.tseries.holiday import USFederalHolidayCalendar\n",
    "from pandas.tseries.offsets import CustomBusinessDay\n",
    "usb=CustomBusinessDay(calendar=USFederalHolidayCalendar())\n",
    "usb"
   ]
  },
  {
   "cell_type": "code",
   "execution_count": 9,
   "metadata": {},
   "outputs": [
    {
     "data": {
      "text/plain": [
       "DatetimeIndex(['2017-10-16', '2017-10-17', '2017-10-18', '2017-10-19',\n",
       "               '2017-10-20', '2017-10-23'],\n",
       "              dtype='datetime64[ns]', freq='C')"
      ]
     },
     "execution_count": 9,
     "metadata": {},
     "output_type": "execute_result"
    }
   ],
   "source": [
    "date_range=pd.date_range(start='10/16/2017',end='10/23/2017',freq=usb)\n",
    "date_range\n"
   ]
  },
  {
   "cell_type": "code",
   "execution_count": 11,
   "metadata": {},
   "outputs": [
    {
     "data": {
      "text/html": [
       "<div>\n",
       "<style scoped>\n",
       "    .dataframe tbody tr th:only-of-type {\n",
       "        vertical-align: middle;\n",
       "    }\n",
       "\n",
       "    .dataframe tbody tr th {\n",
       "        vertical-align: top;\n",
       "    }\n",
       "\n",
       "    .dataframe thead th {\n",
       "        text-align: right;\n",
       "    }\n",
       "</style>\n",
       "<table border=\"1\" class=\"dataframe\">\n",
       "  <thead>\n",
       "    <tr style=\"text-align: right;\">\n",
       "      <th></th>\n",
       "      <th>Open</th>\n",
       "      <th>High</th>\n",
       "      <th>Low</th>\n",
       "      <th>Close</th>\n",
       "      <th>Volume</th>\n",
       "    </tr>\n",
       "  </thead>\n",
       "  <tbody>\n",
       "    <tr>\n",
       "      <th>2017-10-16</th>\n",
       "      <td>143.36</td>\n",
       "      <td>143.36</td>\n",
       "      <td>143.36</td>\n",
       "      <td>143.36</td>\n",
       "      <td>20123.23</td>\n",
       "    </tr>\n",
       "    <tr>\n",
       "      <th>2017-10-17</th>\n",
       "      <td>142.32</td>\n",
       "      <td>142.32</td>\n",
       "      <td>142.32</td>\n",
       "      <td>142.32</td>\n",
       "      <td>20432.12</td>\n",
       "    </tr>\n",
       "    <tr>\n",
       "      <th>2017-10-18</th>\n",
       "      <td>145.98</td>\n",
       "      <td>145.98</td>\n",
       "      <td>145.98</td>\n",
       "      <td>145.98</td>\n",
       "      <td>20487.23</td>\n",
       "    </tr>\n",
       "    <tr>\n",
       "      <th>2017-10-19</th>\n",
       "      <td>149.23</td>\n",
       "      <td>149.23</td>\n",
       "      <td>149.23</td>\n",
       "      <td>149.23</td>\n",
       "      <td>20342.98</td>\n",
       "    </tr>\n",
       "    <tr>\n",
       "      <th>2017-10-20</th>\n",
       "      <td>148.76</td>\n",
       "      <td>148.76</td>\n",
       "      <td>148.76</td>\n",
       "      <td>148.76</td>\n",
       "      <td>20743.23</td>\n",
       "    </tr>\n",
       "    <tr>\n",
       "      <th>2017-10-23</th>\n",
       "      <td>143.36</td>\n",
       "      <td>143.36</td>\n",
       "      <td>143.36</td>\n",
       "      <td>143.36</td>\n",
       "      <td>20123.23</td>\n",
       "    </tr>\n",
       "  </tbody>\n",
       "</table>\n",
       "</div>"
      ],
      "text/plain": [
       "              Open    High     Low   Close    Volume\n",
       "2017-10-16  143.36  143.36  143.36  143.36  20123.23\n",
       "2017-10-17  142.32  142.32  142.32  142.32  20432.12\n",
       "2017-10-18  145.98  145.98  145.98  145.98  20487.23\n",
       "2017-10-19  149.23  149.23  149.23  149.23  20342.98\n",
       "2017-10-20  148.76  148.76  148.76  148.76  20743.23\n",
       "2017-10-23  143.36  143.36  143.36  143.36  20123.23"
      ]
     },
     "execution_count": 11,
     "metadata": {},
     "output_type": "execute_result"
    }
   ],
   "source": [
    "df.set_index(date_range,inplace=True)\n",
    "df"
   ]
  },
  {
   "cell_type": "code",
   "execution_count": 16,
   "metadata": {},
   "outputs": [
    {
     "data": {
      "text/plain": [
       "<CustomBusinessDay>"
      ]
     },
     "execution_count": 16,
     "metadata": {},
     "output_type": "execute_result"
    }
   ],
   "source": [
    "from pandas.tseries.holiday import AbstractHolidayCalendar,nearest_workday,Holiday\n",
    "class myBirthDayCalendar(AbstractHolidayCalendar):\n",
    "    rules=[\n",
    "        Holiday('Optimus Birth Day',month=7,day=15,observance=nearest_workday)\n",
    "    ]\n",
    "myb=CustomBusinessDay(calendar=myBirthDayCalendar())\n",
    "myb"
   ]
  },
  {
   "cell_type": "code",
   "execution_count": 15,
   "metadata": {},
   "outputs": [
    {
     "data": {
      "text/plain": [
       "DatetimeIndex(['2017-07-03', '2017-07-04', '2017-07-05', '2017-07-06',\n",
       "               '2017-07-07', '2017-07-10', '2017-07-11', '2017-07-12',\n",
       "               '2017-07-13', '2017-07-14', '2017-07-17', '2017-07-18',\n",
       "               '2017-07-19', '2017-07-20', '2017-07-21', '2017-07-24',\n",
       "               '2017-07-25', '2017-07-26', '2017-07-27', '2017-07-28'],\n",
       "              dtype='datetime64[ns]', freq='C')"
      ]
     },
     "execution_count": 15,
     "metadata": {},
     "output_type": "execute_result"
    }
   ],
   "source": [
    "pd.date_range(start='7/1/2017',end='7/30/2017',freq=myb)"
   ]
  },
  {
   "cell_type": "code",
   "execution_count": 17,
   "metadata": {},
   "outputs": [
    {
     "data": {
      "text/plain": [
       "DatetimeIndex(['2017-07-03', '2017-07-04', '2017-07-05', '2017-07-06',\n",
       "               '2017-07-07', '2017-07-10', '2017-07-11', '2017-07-12',\n",
       "               '2017-07-13', '2017-07-17', '2017-07-18', '2017-07-19',\n",
       "               '2017-07-20', '2017-07-21', '2017-07-24', '2017-07-25',\n",
       "               '2017-07-26', '2017-07-27', '2017-07-28'],\n",
       "              dtype='datetime64[ns]', freq='C')"
      ]
     },
     "execution_count": 17,
     "metadata": {},
     "output_type": "execute_result"
    }
   ],
   "source": [
    "pd.date_range(start='7/1/2017',end='7/30/2017',freq=myb)"
   ]
  },
  {
   "cell_type": "code",
   "execution_count": 18,
   "metadata": {},
   "outputs": [
    {
     "data": {
      "text/plain": [
       "DatetimeIndex(['2017-10-16', '2017-10-17', '2017-10-18', '2017-10-19',\n",
       "               '2017-10-22', '2017-10-23', '2017-10-24', '2017-10-25',\n",
       "               '2017-10-26', '2017-10-29', '2017-10-30'],\n",
       "              dtype='datetime64[ns]', freq='C')"
      ]
     },
     "execution_count": 18,
     "metadata": {},
     "output_type": "execute_result"
    }
   ],
   "source": [
    "b=CustomBusinessDay(weekmask='Sun Mon Tue Wed Thu')\n",
    "pd.date_range(start='10/16/2017',end='10/30/2017',freq=b)"
   ]
  },
  {
   "cell_type": "code",
   "execution_count": 19,
   "metadata": {},
   "outputs": [
    {
     "data": {
      "text/plain": [
       "DatetimeIndex(['2017-10-16', '2017-10-17', '2017-10-18', '2017-10-19',\n",
       "               '2017-10-23', '2017-10-24', '2017-10-25', '2017-10-26',\n",
       "               '2017-10-29', '2017-10-30'],\n",
       "              dtype='datetime64[ns]', freq='C')"
      ]
     },
     "execution_count": 19,
     "metadata": {},
     "output_type": "execute_result"
    }
   ],
   "source": [
    "b=CustomBusinessDay(weekmask='Sun Mon Tue Wed Thu',holidays=['2017-10-22'])\n",
    "pd.date_range(start='10/16/2017',end='10/30/2017',freq=b)"
   ]
  },
  {
   "cell_type": "code",
   "execution_count": null,
   "metadata": {},
   "outputs": [],
   "source": []
  }
 ],
 "metadata": {
  "kernelspec": {
   "display_name": "Python 3",
   "language": "python",
   "name": "python3"
  },
  "language_info": {
   "codemirror_mode": {
    "name": "ipython",
    "version": 3
   },
   "file_extension": ".py",
   "mimetype": "text/x-python",
   "name": "python",
   "nbconvert_exporter": "python",
   "pygments_lexer": "ipython3",
   "version": "3.7.0"
  }
 },
 "nbformat": 4,
 "nbformat_minor": 2
}
