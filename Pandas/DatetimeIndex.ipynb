{
 "cells": [
  {
   "cell_type": "code",
   "execution_count": 42,
   "metadata": {},
   "outputs": [
    {
     "data": {
      "text/html": [
       "<div>\n",
       "<style scoped>\n",
       "    .dataframe tbody tr th:only-of-type {\n",
       "        vertical-align: middle;\n",
       "    }\n",
       "\n",
       "    .dataframe tbody tr th {\n",
       "        vertical-align: top;\n",
       "    }\n",
       "\n",
       "    .dataframe thead th {\n",
       "        text-align: right;\n",
       "    }\n",
       "</style>\n",
       "<table border=\"1\" class=\"dataframe\">\n",
       "  <thead>\n",
       "    <tr style=\"text-align: right;\">\n",
       "      <th></th>\n",
       "      <th>Open</th>\n",
       "      <th>High</th>\n",
       "      <th>Low</th>\n",
       "      <th>Close</th>\n",
       "      <th>Volume</th>\n",
       "    </tr>\n",
       "    <tr>\n",
       "      <th>Date</th>\n",
       "      <th></th>\n",
       "      <th></th>\n",
       "      <th></th>\n",
       "      <th></th>\n",
       "      <th></th>\n",
       "    </tr>\n",
       "  </thead>\n",
       "  <tbody>\n",
       "    <tr>\n",
       "      <th>2017-07-22</th>\n",
       "      <td>143.36</td>\n",
       "      <td>143.36</td>\n",
       "      <td>143.36</td>\n",
       "      <td>143.36</td>\n",
       "      <td>20123.23</td>\n",
       "    </tr>\n",
       "    <tr>\n",
       "      <th>2017-07-23</th>\n",
       "      <td>142.32</td>\n",
       "      <td>142.32</td>\n",
       "      <td>142.32</td>\n",
       "      <td>142.32</td>\n",
       "      <td>20432.12</td>\n",
       "    </tr>\n",
       "    <tr>\n",
       "      <th>2017-07-24</th>\n",
       "      <td>145.98</td>\n",
       "      <td>145.98</td>\n",
       "      <td>145.98</td>\n",
       "      <td>145.98</td>\n",
       "      <td>20487.23</td>\n",
       "    </tr>\n",
       "    <tr>\n",
       "      <th>2017-07-25</th>\n",
       "      <td>149.23</td>\n",
       "      <td>149.23</td>\n",
       "      <td>149.23</td>\n",
       "      <td>149.23</td>\n",
       "      <td>20342.98</td>\n",
       "    </tr>\n",
       "    <tr>\n",
       "      <th>2017-07-30</th>\n",
       "      <td>148.76</td>\n",
       "      <td>148.76</td>\n",
       "      <td>148.76</td>\n",
       "      <td>148.76</td>\n",
       "      <td>20743.23</td>\n",
       "    </tr>\n",
       "    <tr>\n",
       "      <th>2017-08-22</th>\n",
       "      <td>143.36</td>\n",
       "      <td>143.36</td>\n",
       "      <td>143.36</td>\n",
       "      <td>143.36</td>\n",
       "      <td>20123.23</td>\n",
       "    </tr>\n",
       "    <tr>\n",
       "      <th>2017-08-23</th>\n",
       "      <td>142.32</td>\n",
       "      <td>142.32</td>\n",
       "      <td>142.32</td>\n",
       "      <td>142.32</td>\n",
       "      <td>20432.12</td>\n",
       "    </tr>\n",
       "    <tr>\n",
       "      <th>2017-08-24</th>\n",
       "      <td>145.98</td>\n",
       "      <td>145.98</td>\n",
       "      <td>145.98</td>\n",
       "      <td>145.98</td>\n",
       "      <td>20487.23</td>\n",
       "    </tr>\n",
       "    <tr>\n",
       "      <th>2017-08-25</th>\n",
       "      <td>149.23</td>\n",
       "      <td>149.23</td>\n",
       "      <td>149.23</td>\n",
       "      <td>149.23</td>\n",
       "      <td>20342.98</td>\n",
       "    </tr>\n",
       "    <tr>\n",
       "      <th>2017-08-30</th>\n",
       "      <td>148.76</td>\n",
       "      <td>148.76</td>\n",
       "      <td>148.76</td>\n",
       "      <td>148.76</td>\n",
       "      <td>20743.23</td>\n",
       "    </tr>\n",
       "    <tr>\n",
       "      <th>2017-09-22</th>\n",
       "      <td>143.36</td>\n",
       "      <td>143.36</td>\n",
       "      <td>143.36</td>\n",
       "      <td>143.36</td>\n",
       "      <td>20123.23</td>\n",
       "    </tr>\n",
       "    <tr>\n",
       "      <th>2017-09-23</th>\n",
       "      <td>142.32</td>\n",
       "      <td>142.32</td>\n",
       "      <td>142.32</td>\n",
       "      <td>142.32</td>\n",
       "      <td>20432.12</td>\n",
       "    </tr>\n",
       "    <tr>\n",
       "      <th>2017-09-24</th>\n",
       "      <td>145.98</td>\n",
       "      <td>145.98</td>\n",
       "      <td>145.98</td>\n",
       "      <td>145.98</td>\n",
       "      <td>20487.23</td>\n",
       "    </tr>\n",
       "    <tr>\n",
       "      <th>2017-09-25</th>\n",
       "      <td>149.23</td>\n",
       "      <td>149.23</td>\n",
       "      <td>149.23</td>\n",
       "      <td>149.23</td>\n",
       "      <td>20342.98</td>\n",
       "    </tr>\n",
       "    <tr>\n",
       "      <th>2017-09-30</th>\n",
       "      <td>148.76</td>\n",
       "      <td>148.76</td>\n",
       "      <td>148.76</td>\n",
       "      <td>148.76</td>\n",
       "      <td>20743.23</td>\n",
       "    </tr>\n",
       "    <tr>\n",
       "      <th>2017-10-22</th>\n",
       "      <td>143.36</td>\n",
       "      <td>143.36</td>\n",
       "      <td>143.36</td>\n",
       "      <td>143.36</td>\n",
       "      <td>20123.23</td>\n",
       "    </tr>\n",
       "    <tr>\n",
       "      <th>2017-10-23</th>\n",
       "      <td>142.32</td>\n",
       "      <td>142.32</td>\n",
       "      <td>142.32</td>\n",
       "      <td>142.32</td>\n",
       "      <td>20432.12</td>\n",
       "    </tr>\n",
       "    <tr>\n",
       "      <th>2017-10-24</th>\n",
       "      <td>145.98</td>\n",
       "      <td>145.98</td>\n",
       "      <td>145.98</td>\n",
       "      <td>145.98</td>\n",
       "      <td>20487.23</td>\n",
       "    </tr>\n",
       "    <tr>\n",
       "      <th>2017-10-25</th>\n",
       "      <td>149.23</td>\n",
       "      <td>149.23</td>\n",
       "      <td>149.23</td>\n",
       "      <td>149.23</td>\n",
       "      <td>20342.98</td>\n",
       "    </tr>\n",
       "    <tr>\n",
       "      <th>2017-10-30</th>\n",
       "      <td>148.76</td>\n",
       "      <td>148.76</td>\n",
       "      <td>148.76</td>\n",
       "      <td>148.76</td>\n",
       "      <td>20743.23</td>\n",
       "    </tr>\n",
       "    <tr>\n",
       "      <th>2017-11-22</th>\n",
       "      <td>143.36</td>\n",
       "      <td>143.36</td>\n",
       "      <td>143.36</td>\n",
       "      <td>143.36</td>\n",
       "      <td>20123.23</td>\n",
       "    </tr>\n",
       "    <tr>\n",
       "      <th>2017-11-23</th>\n",
       "      <td>142.32</td>\n",
       "      <td>142.32</td>\n",
       "      <td>142.32</td>\n",
       "      <td>142.32</td>\n",
       "      <td>20432.12</td>\n",
       "    </tr>\n",
       "    <tr>\n",
       "      <th>2017-11-24</th>\n",
       "      <td>145.98</td>\n",
       "      <td>145.98</td>\n",
       "      <td>145.98</td>\n",
       "      <td>145.98</td>\n",
       "      <td>20487.23</td>\n",
       "    </tr>\n",
       "    <tr>\n",
       "      <th>2017-11-25</th>\n",
       "      <td>149.23</td>\n",
       "      <td>149.23</td>\n",
       "      <td>149.23</td>\n",
       "      <td>149.23</td>\n",
       "      <td>20342.98</td>\n",
       "    </tr>\n",
       "    <tr>\n",
       "      <th>2017-11-30</th>\n",
       "      <td>148.76</td>\n",
       "      <td>148.76</td>\n",
       "      <td>148.76</td>\n",
       "      <td>148.76</td>\n",
       "      <td>20743.23</td>\n",
       "    </tr>\n",
       "    <tr>\n",
       "      <th>2017-12-22</th>\n",
       "      <td>143.36</td>\n",
       "      <td>143.36</td>\n",
       "      <td>143.36</td>\n",
       "      <td>143.36</td>\n",
       "      <td>20123.23</td>\n",
       "    </tr>\n",
       "    <tr>\n",
       "      <th>2017-12-23</th>\n",
       "      <td>142.32</td>\n",
       "      <td>142.32</td>\n",
       "      <td>142.32</td>\n",
       "      <td>142.32</td>\n",
       "      <td>20432.12</td>\n",
       "    </tr>\n",
       "    <tr>\n",
       "      <th>2017-12-24</th>\n",
       "      <td>145.98</td>\n",
       "      <td>145.98</td>\n",
       "      <td>145.98</td>\n",
       "      <td>145.98</td>\n",
       "      <td>20487.23</td>\n",
       "    </tr>\n",
       "    <tr>\n",
       "      <th>2017-12-25</th>\n",
       "      <td>149.23</td>\n",
       "      <td>149.23</td>\n",
       "      <td>149.23</td>\n",
       "      <td>149.23</td>\n",
       "      <td>20342.98</td>\n",
       "    </tr>\n",
       "    <tr>\n",
       "      <th>2017-12-30</th>\n",
       "      <td>148.76</td>\n",
       "      <td>148.76</td>\n",
       "      <td>148.76</td>\n",
       "      <td>148.76</td>\n",
       "      <td>20743.23</td>\n",
       "    </tr>\n",
       "  </tbody>\n",
       "</table>\n",
       "</div>"
      ],
      "text/plain": [
       "              Open    High     Low   Close    Volume\n",
       "Date                                                \n",
       "2017-07-22  143.36  143.36  143.36  143.36  20123.23\n",
       "2017-07-23  142.32  142.32  142.32  142.32  20432.12\n",
       "2017-07-24  145.98  145.98  145.98  145.98  20487.23\n",
       "2017-07-25  149.23  149.23  149.23  149.23  20342.98\n",
       "2017-07-30  148.76  148.76  148.76  148.76  20743.23\n",
       "2017-08-22  143.36  143.36  143.36  143.36  20123.23\n",
       "2017-08-23  142.32  142.32  142.32  142.32  20432.12\n",
       "2017-08-24  145.98  145.98  145.98  145.98  20487.23\n",
       "2017-08-25  149.23  149.23  149.23  149.23  20342.98\n",
       "2017-08-30  148.76  148.76  148.76  148.76  20743.23\n",
       "2017-09-22  143.36  143.36  143.36  143.36  20123.23\n",
       "2017-09-23  142.32  142.32  142.32  142.32  20432.12\n",
       "2017-09-24  145.98  145.98  145.98  145.98  20487.23\n",
       "2017-09-25  149.23  149.23  149.23  149.23  20342.98\n",
       "2017-09-30  148.76  148.76  148.76  148.76  20743.23\n",
       "2017-10-22  143.36  143.36  143.36  143.36  20123.23\n",
       "2017-10-23  142.32  142.32  142.32  142.32  20432.12\n",
       "2017-10-24  145.98  145.98  145.98  145.98  20487.23\n",
       "2017-10-25  149.23  149.23  149.23  149.23  20342.98\n",
       "2017-10-30  148.76  148.76  148.76  148.76  20743.23\n",
       "2017-11-22  143.36  143.36  143.36  143.36  20123.23\n",
       "2017-11-23  142.32  142.32  142.32  142.32  20432.12\n",
       "2017-11-24  145.98  145.98  145.98  145.98  20487.23\n",
       "2017-11-25  149.23  149.23  149.23  149.23  20342.98\n",
       "2017-11-30  148.76  148.76  148.76  148.76  20743.23\n",
       "2017-12-22  143.36  143.36  143.36  143.36  20123.23\n",
       "2017-12-23  142.32  142.32  142.32  142.32  20432.12\n",
       "2017-12-24  145.98  145.98  145.98  145.98  20487.23\n",
       "2017-12-25  149.23  149.23  149.23  149.23  20342.98\n",
       "2017-12-30  148.76  148.76  148.76  148.76  20743.23"
      ]
     },
     "execution_count": 42,
     "metadata": {},
     "output_type": "execute_result"
    }
   ],
   "source": [
    "import pandas as pd\n",
    "df=pd.read_csv('Ecom.csv',parse_dates=['Date'],index_col='Date')\n",
    "df"
   ]
  },
  {
   "cell_type": "code",
   "execution_count": 43,
   "metadata": {},
   "outputs": [
    {
     "data": {
      "text/plain": [
       "DatetimeIndex(['2017-07-22', '2017-07-23', '2017-07-24', '2017-07-25',\n",
       "               '2017-07-30', '2017-08-22', '2017-08-23', '2017-08-24',\n",
       "               '2017-08-25', '2017-08-30', '2017-09-22', '2017-09-23',\n",
       "               '2017-09-24', '2017-09-25', '2017-09-30', '2017-10-22',\n",
       "               '2017-10-23', '2017-10-24', '2017-10-25', '2017-10-30',\n",
       "               '2017-11-22', '2017-11-23', '2017-11-24', '2017-11-25',\n",
       "               '2017-11-30', '2017-12-22', '2017-12-23', '2017-12-24',\n",
       "               '2017-12-25', '2017-12-30'],\n",
       "              dtype='datetime64[ns]', name='Date', freq=None)"
      ]
     },
     "execution_count": 43,
     "metadata": {},
     "output_type": "execute_result"
    }
   ],
   "source": [
    "df.index"
   ]
  },
  {
   "cell_type": "code",
   "execution_count": 54,
   "metadata": {},
   "outputs": [
    {
     "data": {
      "text/html": [
       "<div>\n",
       "<style scoped>\n",
       "    .dataframe tbody tr th:only-of-type {\n",
       "        vertical-align: middle;\n",
       "    }\n",
       "\n",
       "    .dataframe tbody tr th {\n",
       "        vertical-align: top;\n",
       "    }\n",
       "\n",
       "    .dataframe thead th {\n",
       "        text-align: right;\n",
       "    }\n",
       "</style>\n",
       "<table border=\"1\" class=\"dataframe\">\n",
       "  <thead>\n",
       "    <tr style=\"text-align: right;\">\n",
       "      <th></th>\n",
       "      <th>Open</th>\n",
       "      <th>High</th>\n",
       "      <th>Low</th>\n",
       "      <th>Close</th>\n",
       "      <th>Volume</th>\n",
       "    </tr>\n",
       "    <tr>\n",
       "      <th>Date</th>\n",
       "      <th></th>\n",
       "      <th></th>\n",
       "      <th></th>\n",
       "      <th></th>\n",
       "      <th></th>\n",
       "    </tr>\n",
       "  </thead>\n",
       "  <tbody>\n",
       "    <tr>\n",
       "      <th>2017-08-22</th>\n",
       "      <td>143.36</td>\n",
       "      <td>143.36</td>\n",
       "      <td>143.36</td>\n",
       "      <td>143.36</td>\n",
       "      <td>20123.23</td>\n",
       "    </tr>\n",
       "    <tr>\n",
       "      <th>2017-08-23</th>\n",
       "      <td>142.32</td>\n",
       "      <td>142.32</td>\n",
       "      <td>142.32</td>\n",
       "      <td>142.32</td>\n",
       "      <td>20432.12</td>\n",
       "    </tr>\n",
       "    <tr>\n",
       "      <th>2017-08-24</th>\n",
       "      <td>145.98</td>\n",
       "      <td>145.98</td>\n",
       "      <td>145.98</td>\n",
       "      <td>145.98</td>\n",
       "      <td>20487.23</td>\n",
       "    </tr>\n",
       "    <tr>\n",
       "      <th>2017-08-25</th>\n",
       "      <td>149.23</td>\n",
       "      <td>149.23</td>\n",
       "      <td>149.23</td>\n",
       "      <td>149.23</td>\n",
       "      <td>20342.98</td>\n",
       "    </tr>\n",
       "    <tr>\n",
       "      <th>2017-08-30</th>\n",
       "      <td>148.76</td>\n",
       "      <td>148.76</td>\n",
       "      <td>148.76</td>\n",
       "      <td>148.76</td>\n",
       "      <td>20743.23</td>\n",
       "    </tr>\n",
       "  </tbody>\n",
       "</table>\n",
       "</div>"
      ],
      "text/plain": [
       "              Open    High     Low   Close    Volume\n",
       "Date                                                \n",
       "2017-08-22  143.36  143.36  143.36  143.36  20123.23\n",
       "2017-08-23  142.32  142.32  142.32  142.32  20432.12\n",
       "2017-08-24  145.98  145.98  145.98  145.98  20487.23\n",
       "2017-08-25  149.23  149.23  149.23  149.23  20342.98\n",
       "2017-08-30  148.76  148.76  148.76  148.76  20743.23"
      ]
     },
     "execution_count": 54,
     "metadata": {},
     "output_type": "execute_result"
    }
   ],
   "source": [
    "df['2017-08']"
   ]
  },
  {
   "cell_type": "code",
   "execution_count": 55,
   "metadata": {},
   "outputs": [
    {
     "data": {
      "text/plain": [
       "145.93"
      ]
     },
     "execution_count": 55,
     "metadata": {},
     "output_type": "execute_result"
    }
   ],
   "source": [
    "df['2017-07'].Close.mean()"
   ]
  },
  {
   "cell_type": "code",
   "execution_count": 13,
   "metadata": {},
   "outputs": [
    {
     "data": {
      "text/html": [
       "<div>\n",
       "<style scoped>\n",
       "    .dataframe tbody tr th:only-of-type {\n",
       "        vertical-align: middle;\n",
       "    }\n",
       "\n",
       "    .dataframe tbody tr th {\n",
       "        vertical-align: top;\n",
       "    }\n",
       "\n",
       "    .dataframe thead th {\n",
       "        text-align: right;\n",
       "    }\n",
       "</style>\n",
       "<table border=\"1\" class=\"dataframe\">\n",
       "  <thead>\n",
       "    <tr style=\"text-align: right;\">\n",
       "      <th></th>\n",
       "      <th>Open</th>\n",
       "      <th>High</th>\n",
       "      <th>Low</th>\n",
       "      <th>Close</th>\n",
       "      <th>Volume</th>\n",
       "    </tr>\n",
       "    <tr>\n",
       "      <th>Date</th>\n",
       "      <th></th>\n",
       "      <th></th>\n",
       "      <th></th>\n",
       "      <th></th>\n",
       "      <th></th>\n",
       "    </tr>\n",
       "  </thead>\n",
       "  <tbody>\n",
       "    <tr>\n",
       "      <th>2017-08-22</th>\n",
       "      <td>143.36</td>\n",
       "      <td>143.36</td>\n",
       "      <td>143.36</td>\n",
       "      <td>143.36</td>\n",
       "      <td>20123.23</td>\n",
       "    </tr>\n",
       "    <tr>\n",
       "      <th>2017-08-23</th>\n",
       "      <td>142.32</td>\n",
       "      <td>142.32</td>\n",
       "      <td>142.32</td>\n",
       "      <td>142.32</td>\n",
       "      <td>20432.12</td>\n",
       "    </tr>\n",
       "    <tr>\n",
       "      <th>2017-08-24</th>\n",
       "      <td>145.98</td>\n",
       "      <td>145.98</td>\n",
       "      <td>145.98</td>\n",
       "      <td>145.98</td>\n",
       "      <td>20487.23</td>\n",
       "    </tr>\n",
       "    <tr>\n",
       "      <th>2017-08-25</th>\n",
       "      <td>149.23</td>\n",
       "      <td>149.23</td>\n",
       "      <td>149.23</td>\n",
       "      <td>149.23</td>\n",
       "      <td>20342.98</td>\n",
       "    </tr>\n",
       "    <tr>\n",
       "      <th>2017-08-30</th>\n",
       "      <td>148.76</td>\n",
       "      <td>148.76</td>\n",
       "      <td>148.76</td>\n",
       "      <td>148.76</td>\n",
       "      <td>20743.23</td>\n",
       "    </tr>\n",
       "  </tbody>\n",
       "</table>\n",
       "</div>"
      ],
      "text/plain": [
       "              Open    High     Low   Close    Volume\n",
       "Date                                                \n",
       "2017-08-22  143.36  143.36  143.36  143.36  20123.23\n",
       "2017-08-23  142.32  142.32  142.32  142.32  20432.12\n",
       "2017-08-24  145.98  145.98  145.98  145.98  20487.23\n",
       "2017-08-25  149.23  149.23  149.23  149.23  20342.98\n",
       "2017-08-30  148.76  148.76  148.76  148.76  20743.23"
      ]
     },
     "execution_count": 13,
     "metadata": {},
     "output_type": "execute_result"
    }
   ],
   "source": [
    "df[\"2017-08-22\":\"2017-08-30\"]"
   ]
  },
  {
   "cell_type": "code",
   "execution_count": 15,
   "metadata": {},
   "outputs": [
    {
     "data": {
      "text/plain": [
       "Date\n",
       "2017-07-31    145.93\n",
       "2017-08-31    145.93\n",
       "2017-09-30    145.93\n",
       "2017-10-31    145.93\n",
       "2017-11-30    145.93\n",
       "2017-12-31    145.93\n",
       "Freq: M, Name: Close, dtype: float64"
      ]
     },
     "execution_count": 15,
     "metadata": {},
     "output_type": "execute_result"
    }
   ],
   "source": [
    "df.Close.resample('M').mean()"
   ]
  },
  {
   "cell_type": "code",
   "execution_count": 16,
   "metadata": {},
   "outputs": [
    {
     "data": {
      "text/plain": [
       "<matplotlib.axes._subplots.AxesSubplot at 0xc91e590>"
      ]
     },
     "execution_count": 16,
     "metadata": {},
     "output_type": "execute_result"
    },
    {
     "data": {
      "image/png": "[encoded data removed]",
      "text/plain": [
       "<Figure size 432x288 with 1 Axes>"
      ]
     },
     "metadata": {
      "needs_background": "light"
     },
     "output_type": "display_data"
    }
   ],
   "source": [
    "%matplotlib inline\n",
    "df.Close.resample('M').mean().plot()"
   ]
  },
  {
   "cell_type": "code",
   "execution_count": 17,
   "metadata": {},
   "outputs": [
    {
     "data": {
      "text/plain": [
       "<matplotlib.axes._subplots.AxesSubplot at 0x3c4c110>"
      ]
     },
     "execution_count": 17,
     "metadata": {},
     "output_type": "execute_result"
    },
    {
     "data": {
      "image/png": "[encoded data removed]",
      "text/plain": [
       "<Figure size 432x288 with 1 Axes>"
      ]
     },
     "metadata": {
      "needs_background": "light"
     },
     "output_type": "display_data"
    }
   ],
   "source": [
    "df.Close.resample('W').mean().plot()"
   ]
  },
  {
   "cell_type": "code",
   "execution_count": 18,
   "metadata": {},
   "outputs": [
    {
     "data": {
      "text/plain": [
       "<matplotlib.axes._subplots.AxesSubplot at 0xc7c6830>"
      ]
     },
     "execution_count": 18,
     "metadata": {},
     "output_type": "execute_result"
    },
    {
     "data": {
      "image/png": "[encoded data removed]",
      "text/plain": [
       "<Figure size 432x288 with 1 Axes>"
      ]
     },
     "metadata": {
      "needs_background": "light"
     },
     "output_type": "display_data"
    }
   ],
   "source": [
    "df.Close.resample('Q').mean().plot()"
   ]
  },
  {
   "cell_type": "code",
   "execution_count": 19,
   "metadata": {},
   "outputs": [
    {
     "data": {
      "text/plain": [
       "<matplotlib.axes._subplots.AxesSubplot at 0xc7b89f0>"
      ]
     },
     "execution_count": 19,
     "metadata": {},
     "output_type": "execute_result"
    },
    {
     "data": {
      "image/png": "[encoded data removed]",
      "text/plain": [
       "<Figure size 432x288 with 1 Axes>"
      ]
     },
     "metadata": {
      "needs_background": "light"
     },
     "output_type": "display_data"
    }
   ],
   "source": [
    "df.Close.resample('W').mean().plot(kind='bar')"
   ]
  },
  {
   "cell_type": "code",
   "execution_count": 20,
   "metadata": {},
   "outputs": [
    {
     "data": {
      "text/plain": [
       "<matplotlib.axes._subplots.AxesSubplot at 0xaf8cc10>"
      ]
     },
     "execution_count": 20,
     "metadata": {},
     "output_type": "execute_result"
    },
    {
     "data": {
      "image/png": "[encoded data removed]",
      "text/plain": [
       "<Figure size 432x288 with 1 Axes>"
      ]
     },
     "metadata": {
      "needs_background": "light"
     },
     "output_type": "display_data"
    }
   ],
   "source": [
    "df.Close.plot()"
   ]
  },
  {
   "cell_type": "code",
   "execution_count": null,
   "metadata": {},
   "outputs": [],
   "source": []
  }
 ],
 "metadata": {
  "kernelspec": {
   "display_name": "Python 3",
   "language": "python",
   "name": "python3"
  },
  "language_info": {
   "codemirror_mode": {
    "name": "ipython",
    "version": 3
   },
   "file_extension": ".py",
   "mimetype": "text/x-python",
   "name": "python",
   "nbconvert_exporter": "python",
   "pygments_lexer": "ipython3",
   "version": "3.7.0"
  }
 },
 "nbformat": 4,
 "nbformat_minor": 2
}
